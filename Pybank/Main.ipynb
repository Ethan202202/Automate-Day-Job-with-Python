{
 "cells": [
  {
   "cell_type": "code",
   "execution_count": 1,
   "id": "d12bd903",
   "metadata": {},
   "outputs": [],
   "source": [
    "budget_data = {\"Jan-2010\": 867884,\n",
    "               \"Feb-2010\": 984655,\n",
    "               \"Mar-2010\": 322013,\n",
    "               \"Apr-2010\": -69417,\n",
    "               \"May-2010\": 310503,\n",
    "               \"Jun-2010\": 522857,\n",
    "               \"Jul-2010\": 1033096,\n",
    "               \"Aug-2010\": 604885,\n",
    "               \"Sep-2010\": -216386,\n",
    "               \"Oct-2010\": 477532,\n",
    "               \"Nov-2010\": 893810,\n",
    "               \"Dec-2010\": -80353,\n",
    "               \"Jan-2011\": 779806,\n",
    "               \"Feb-2011\": -335203,\n",
    "               \"Mar-2011\": 697845,\n",
    "               \"Apr-2011\": 793163,\n",
    "               \"May-2011\": 485070,\n",
    "               \"Jun-2011\": 584122,\n",
    "               \"Jul-2011\": 62729,\n",
    "               \"Aug-2011\": 668179,\n",
    "               \"Sep-2011\": 899906,\n",
    "               \"Oct-2011\": 834719,\n",
    "               \"Nov-2011\": 132003,\n",
    "               \"Dec-2011\": 309978,\n",
    "               \"Jan-2012\": -755566,\n",
    "               \"Feb-2012\": 1170593,\n",
    "               \"Mar-2012\": 252788,\n",
    "               \"Apr-2012\": 1151518,\n",
    "               \"May-2012\": 817256,\n",
    "               \"Jun-2012\": 570757,\n",
    "               \"Jul-2012\": 506702,\n",
    "               \"Aug-2012\": -1022534,\n",
    "               \"Sep-2012\": 475062,\n",
    "               \"Oct-2012\": 779976,\n",
    "               \"Nov-2012\": 144175,\n",
    "               \"Dec-2012\": 542494,\n",
    "               \"Jan-2013\": 359333,\n",
    "               \"Feb-2013\": 321469,\n",
    "               \"Mar-2013\": 67780,\n",
    "               \"Apr-2013\": 471435,\n",
    "               \"May-2013\": 565603,\n",
    "               \"Jun-2013\": 872480,\n",
    "               \"Jul-2013\": 789480,\n",
    "               \"Aug-2013\": 999942,\n",
    "               \"Sep-2013\": -1196225,\n",
    "               \"Oct-2013\": 268997,\n",
    "               \"Nov-2013\": -687986,\n",
    "               \"Dec-2013\": 1150461,\n",
    "               \"Jan-2014\": 682458,\n",
    "               \"Feb-2014\": 617856,\n",
    "               \"Mar-2014\": 824098,\n",
    "               \"Apr-2014\": 581943,\n",
    "               \"May-2014\": 132864,\n",
    "               \"Jun-2014\": 448062,\n",
    "               \"Jul-2014\": 689161,\n",
    "               \"Aug-2014\": 800701,\n",
    "               \"Sep-2014\": 1166643,\n",
    "               \"Oct-2014\": 947333,\n",
    "               \"Nov-2014\": 578668,\n",
    "               \"Dec-2014\": 988505,\n",
    "               \"Jan-2015\": 1139715,\n",
    "               \"Feb-2015\": 1029471,\n",
    "               \"Mar-2015\": 687533,\n",
    "               \"Apr-2015\": -524626,\n",
    "               \"May-2015\": 158620,\n",
    "               \"Jun-2015\": 87795,\n",
    "               \"Jul-2015\": 423389,\n",
    "               \"Aug-2015\": 840723,\n",
    "               \"Sep-2015\": 568529,\n",
    "               \"Oct-2015\": 332067,\n",
    "               \"Nov-2015\": 989499,\n",
    "               \"Dec-2015\": 778237,\n",
    "               \"Jan-2016\": 650000,\n",
    "               \"Feb-2016\": -1100387,\n",
    "               \"Mar-2016\": -174946,\n",
    "               \"Apr-2016\": 757143,\n",
    "               \"May-2016\": 445709,\n",
    "               \"Jun-2016\": 712961,\n",
    "               \"Jul-2016\": -1163797,\n",
    "               \"Aug-2016\": 569899,\n",
    "               \"Sep-2016\": 768450,\n",
    "               \"Oct-2016\": 102685,\n",
    "               \"Nov-2016\": 795914,\n",
    "               \"Dec-2016\": 60988,\n",
    "               \"Jan-2017\": 138230,\n",
    "               \"Feb-2017\": 671099 }"
   ]
  },
  {
   "cell_type": "code",
   "execution_count": 2,
   "id": "6b68baca",
   "metadata": {},
   "outputs": [
    {
     "name": "stdout",
     "output_type": "stream",
     "text": [
      "Total Months: 86\n"
     ]
    }
   ],
   "source": [
    "print(\"Total Months:\", len(budget_data))"
   ]
  },
  {
   "cell_type": "code",
   "execution_count": 3,
   "id": "507380ce",
   "metadata": {},
   "outputs": [],
   "source": [
    "def total_months(budget):\n",
    "    count = 0\n",
    "    for months in budget:\n",
    "        count += 1\n",
    "    return count"
   ]
  },
  {
   "cell_type": "code",
   "execution_count": 4,
   "id": "acd4dc10",
   "metadata": {},
   "outputs": [
    {
     "name": "stdout",
     "output_type": "stream",
     "text": [
      "Total Months: 86\n"
     ]
    }
   ],
   "source": [
    "print (\"Total Months:\",total_months(budget_data))"
   ]
  },
  {
   "cell_type": "code",
   "execution_count": 5,
   "id": "d38d2c05",
   "metadata": {},
   "outputs": [
    {
     "name": "stdout",
     "output_type": "stream",
     "text": [
      "Total Amount:$ 38382578\n"
     ]
    }
   ],
   "source": [
    "print (\"Total Amount:$\",sum(budget_data.values()))"
   ]
  },
  {
   "cell_type": "code",
   "execution_count": 6,
   "id": "e3a59ca0",
   "metadata": {},
   "outputs": [],
   "source": [
    "Total_Amount = 0"
   ]
  },
  {
   "cell_type": "code",
   "execution_count": 7,
   "id": "24c62b27",
   "metadata": {},
   "outputs": [
    {
     "name": "stdout",
     "output_type": "stream",
     "text": [
      "Total Amount:$ 38382578\n"
     ]
    }
   ],
   "source": [
    "for amount in budget_data.values():\n",
    "    Total_Amount += amount\n",
    "print(f\"Total Amount:$ {Total_Amount}\")"
   ]
  },
  {
   "cell_type": "code",
   "execution_count": 8,
   "id": "72866b12",
   "metadata": {},
   "outputs": [],
   "source": [
    "First_Month_Profit=list(budget_data.values())[0]"
   ]
  },
  {
   "cell_type": "code",
   "execution_count": 9,
   "id": "2480118f",
   "metadata": {},
   "outputs": [],
   "source": [
    "Last_Month_Profit=list(budget_data.values())[-1]"
   ]
  },
  {
   "cell_type": "code",
   "execution_count": 10,
   "id": "d2340d5c",
   "metadata": {},
   "outputs": [],
   "source": [
    "Average_Change= (Last_Month_Profit-First_Month_Profit)/ (len(budget_data)-1)"
   ]
  },
  {
   "cell_type": "code",
   "execution_count": 11,
   "id": "3ca99fc9",
   "metadata": {},
   "outputs": [
    {
     "name": "stdout",
     "output_type": "stream",
     "text": [
      "Average Change:$ -2315.12\n"
     ]
    }
   ],
   "source": [
    "print(\"Average Change:$\",round(Average_Change,2))"
   ]
  },
  {
   "cell_type": "code",
   "execution_count": 12,
   "id": "2be40c2c",
   "metadata": {},
   "outputs": [
    {
     "data": {
      "text/plain": [
       "[867884,\n",
       " 984655,\n",
       " 322013,\n",
       " -69417,\n",
       " 310503,\n",
       " 522857,\n",
       " 1033096,\n",
       " 604885,\n",
       " -216386,\n",
       " 477532,\n",
       " 893810,\n",
       " -80353,\n",
       " 779806,\n",
       " -335203,\n",
       " 697845,\n",
       " 793163,\n",
       " 485070,\n",
       " 584122,\n",
       " 62729,\n",
       " 668179,\n",
       " 899906,\n",
       " 834719,\n",
       " 132003,\n",
       " 309978,\n",
       " -755566,\n",
       " 1170593,\n",
       " 252788,\n",
       " 1151518,\n",
       " 817256,\n",
       " 570757,\n",
       " 506702,\n",
       " -1022534,\n",
       " 475062,\n",
       " 779976,\n",
       " 144175,\n",
       " 542494,\n",
       " 359333,\n",
       " 321469,\n",
       " 67780,\n",
       " 471435,\n",
       " 565603,\n",
       " 872480,\n",
       " 789480,\n",
       " 999942,\n",
       " -1196225,\n",
       " 268997,\n",
       " -687986,\n",
       " 1150461,\n",
       " 682458,\n",
       " 617856,\n",
       " 824098,\n",
       " 581943,\n",
       " 132864,\n",
       " 448062,\n",
       " 689161,\n",
       " 800701,\n",
       " 1166643,\n",
       " 947333,\n",
       " 578668,\n",
       " 988505,\n",
       " 1139715,\n",
       " 1029471,\n",
       " 687533,\n",
       " -524626,\n",
       " 158620,\n",
       " 87795,\n",
       " 423389,\n",
       " 840723,\n",
       " 568529,\n",
       " 332067,\n",
       " 989499,\n",
       " 778237,\n",
       " 650000,\n",
       " -1100387,\n",
       " -174946,\n",
       " 757143,\n",
       " 445709,\n",
       " 712961,\n",
       " -1163797,\n",
       " 569899,\n",
       " 768450,\n",
       " 102685,\n",
       " 795914,\n",
       " 60988,\n",
       " 138230,\n",
       " 671099]"
      ]
     },
     "execution_count": 12,
     "metadata": {},
     "output_type": "execute_result"
    }
   ],
   "source": [
    "list(budget_data.values())"
   ]
  },
  {
   "cell_type": "code",
   "execution_count": 13,
   "id": "318f304e",
   "metadata": {},
   "outputs": [],
   "source": [
    "import numpy as np"
   ]
  },
  {
   "cell_type": "code",
   "execution_count": 14,
   "id": "0a21643a",
   "metadata": {},
   "outputs": [],
   "source": [
    "change = np.array([867884,\n",
    " 984655,\n",
    " 322013,\n",
    " -69417,\n",
    " 310503,\n",
    " 522857,\n",
    " 1033096,\n",
    " 604885,\n",
    " -216386,\n",
    " 477532,\n",
    " 893810,\n",
    " -80353,\n",
    " 779806,\n",
    " -335203,\n",
    " 697845,\n",
    " 793163,\n",
    " 485070,\n",
    " 584122,\n",
    " 62729,\n",
    " 668179,\n",
    " 899906,\n",
    " 834719,\n",
    " 132003,\n",
    " 309978,\n",
    " -755566,\n",
    " 1170593,\n",
    " 252788,\n",
    " 1151518,\n",
    " 817256,\n",
    " 570757,\n",
    " 506702,\n",
    " -1022534,\n",
    " 475062,\n",
    " 779976,\n",
    " 144175,\n",
    " 542494,\n",
    " 359333,\n",
    " 321469,\n",
    " 67780,\n",
    " 471435,\n",
    " 565603,\n",
    " 872480,\n",
    " 789480,\n",
    " 999942,\n",
    " -1196225,\n",
    " 268997,\n",
    " -687986,\n",
    " 1150461,\n",
    " 682458,\n",
    " 617856,\n",
    " 824098,\n",
    " 581943,\n",
    " 132864,\n",
    " 448062,\n",
    " 689161,\n",
    " 800701,\n",
    " 1166643,\n",
    " 947333,\n",
    " 578668,\n",
    " 988505,\n",
    " 1139715,\n",
    " 1029471,\n",
    " 687533,\n",
    " -524626,\n",
    " 158620,\n",
    " 87795,\n",
    " 423389,\n",
    " 840723,\n",
    " 568529,\n",
    " 332067,\n",
    " 989499,\n",
    " 778237,\n",
    " 650000,\n",
    " -1100387,\n",
    " -174946,\n",
    " 757143,\n",
    " 445709,\n",
    " 712961,\n",
    " -1163797,\n",
    " 569899,\n",
    " 768450,\n",
    " 102685,\n",
    " 795914,\n",
    " 60988,\n",
    " 138230,\n",
    " 671099])"
   ]
  },
  {
   "cell_type": "code",
   "execution_count": 15,
   "id": "02d74782",
   "metadata": {},
   "outputs": [
    {
     "name": "stdout",
     "output_type": "stream",
     "text": [
      "Difference: [  116771  -662642  -391430   379920   212354   510239  -428211  -821271\n",
      "   693918   416278  -974163   860159 -1115009  1033048    95318  -308093\n",
      "    99052  -521393   605450   231727   -65187  -702716   177975 -1065544\n",
      "  1926159  -917805   898730  -334262  -246499   -64055 -1529236  1497596\n",
      "   304914  -635801   398319  -183161   -37864  -253689   403655    94168\n",
      "   306877   -83000   210462 -2196167  1465222  -956983  1838447  -468003\n",
      "   -64602   206242  -242155  -449079   315198   241099   111540   365942\n",
      "  -219310  -368665   409837   151210  -110244  -341938 -1212159   683246\n",
      "   -70825   335594   417334  -272194  -236462   657432  -211262  -128237\n",
      " -1750387   925441   932089  -311434   267252 -1876758  1733696   198551\n",
      "  -665765   693229  -734926    77242   532869]\n"
     ]
    }
   ],
   "source": [
    "print(\"Difference:\", np.diff(change))"
   ]
  },
  {
   "cell_type": "code",
   "execution_count": 16,
   "id": "b903bde7",
   "metadata": {},
   "outputs": [],
   "source": [
    "Max_value=max(np.diff(change))"
   ]
  },
  {
   "cell_type": "code",
   "execution_count": 17,
   "id": "77318dd7",
   "metadata": {},
   "outputs": [
    {
     "name": "stdout",
     "output_type": "stream",
     "text": [
      "1926159\n"
     ]
    }
   ],
   "source": [
    "print(Max_value)"
   ]
  },
  {
   "cell_type": "code",
   "execution_count": 18,
   "id": "8ebabc5c",
   "metadata": {},
   "outputs": [],
   "source": [
    "Min_value=min(np.diff(change))"
   ]
  },
  {
   "cell_type": "code",
   "execution_count": 19,
   "id": "f0889f79",
   "metadata": {},
   "outputs": [
    {
     "name": "stdout",
     "output_type": "stream",
     "text": [
      "-2196167\n"
     ]
    }
   ],
   "source": [
    "print(Min_value)"
   ]
  },
  {
   "cell_type": "code",
   "execution_count": 20,
   "id": "f127936e",
   "metadata": {},
   "outputs": [
    {
     "data": {
      "text/plain": [
       "[116771,\n",
       " -662642,\n",
       " -391430,\n",
       " 379920,\n",
       " 212354,\n",
       " 510239,\n",
       " -428211,\n",
       " -821271,\n",
       " 693918,\n",
       " 416278,\n",
       " -974163,\n",
       " 860159,\n",
       " -1115009,\n",
       " 1033048,\n",
       " 95318,\n",
       " -308093,\n",
       " 99052,\n",
       " -521393,\n",
       " 605450,\n",
       " 231727,\n",
       " -65187,\n",
       " -702716,\n",
       " 177975,\n",
       " -1065544,\n",
       " 1926159,\n",
       " -917805,\n",
       " 898730,\n",
       " -334262,\n",
       " -246499,\n",
       " -64055,\n",
       " -1529236,\n",
       " 1497596,\n",
       " 304914,\n",
       " -635801,\n",
       " 398319,\n",
       " -183161,\n",
       " -37864,\n",
       " -253689,\n",
       " 403655,\n",
       " 94168,\n",
       " 306877,\n",
       " -83000,\n",
       " 210462,\n",
       " -2196167,\n",
       " 1465222,\n",
       " -956983,\n",
       " 1838447,\n",
       " -468003,\n",
       " -64602,\n",
       " 206242,\n",
       " -242155,\n",
       " -449079,\n",
       " 315198,\n",
       " 241099,\n",
       " 111540,\n",
       " 365942,\n",
       " -219310,\n",
       " -368665,\n",
       " 409837,\n",
       " 151210,\n",
       " -110244,\n",
       " -341938,\n",
       " -1212159,\n",
       " 683246,\n",
       " -70825,\n",
       " 335594,\n",
       " 417334,\n",
       " -272194,\n",
       " -236462,\n",
       " 657432,\n",
       " -211262,\n",
       " -128237,\n",
       " -1750387,\n",
       " 925441,\n",
       " 932089,\n",
       " -311434,\n",
       " 267252,\n",
       " -1876758,\n",
       " 1733696,\n",
       " 198551,\n",
       " -665765,\n",
       " 693229,\n",
       " -734926,\n",
       " 77242,\n",
       " 532869]"
      ]
     },
     "execution_count": 20,
     "metadata": {},
     "output_type": "execute_result"
    }
   ],
   "source": [
    "list(np.diff(change))"
   ]
  },
  {
   "cell_type": "code",
   "execution_count": 21,
   "id": "7655dd2c",
   "metadata": {},
   "outputs": [],
   "source": [
    "difference=[116771,\n",
    " -662642,\n",
    " -391430,\n",
    " 379920,\n",
    " 212354,\n",
    " 510239,\n",
    " -428211,\n",
    " -821271,\n",
    " 693918,\n",
    " 416278,\n",
    " -974163,\n",
    " 860159,\n",
    " -1115009,\n",
    " 1033048,\n",
    " 95318,\n",
    " -308093,\n",
    " 99052,\n",
    " -521393,\n",
    " 605450,\n",
    " 231727,\n",
    " -65187,\n",
    " -702716,\n",
    " 177975,\n",
    " -1065544,\n",
    " 1926159,\n",
    " -917805,\n",
    " 898730,\n",
    " -334262,\n",
    " -246499,\n",
    " -64055,\n",
    " -1529236,\n",
    " 1497596,\n",
    " 304914,\n",
    " -635801,\n",
    " 398319,\n",
    " -183161,\n",
    " -37864,\n",
    " -253689,\n",
    " 403655,\n",
    " 94168,\n",
    " 306877,\n",
    " -83000,\n",
    " 210462,\n",
    " -2196167,\n",
    " 1465222,\n",
    " -956983,\n",
    " 1838447,\n",
    " -468003,\n",
    " -64602,\n",
    " 206242,\n",
    " -242155,\n",
    " -449079,\n",
    " 315198,\n",
    " 241099,\n",
    " 111540,\n",
    " 365942,\n",
    " -219310,\n",
    " -368665,\n",
    " 409837,\n",
    " 151210,\n",
    " -110244,\n",
    " -341938,\n",
    " -1212159,\n",
    " 683246,\n",
    " -70825,\n",
    " 335594,\n",
    " 417334,\n",
    " -272194,\n",
    " -236462,\n",
    " 657432,\n",
    " -211262,\n",
    " -128237,\n",
    " -1750387,\n",
    " 925441,\n",
    " 932089,\n",
    " -311434,\n",
    " 267252,\n",
    " -1876758,\n",
    " 1733696,\n",
    " 198551,\n",
    " -665765,\n",
    " 693229,\n",
    " -734926,\n",
    " 77242,\n",
    " 532869]"
   ]
  },
  {
   "cell_type": "code",
   "execution_count": 22,
   "id": "de7f177a",
   "metadata": {},
   "outputs": [
    {
     "name": "stdout",
     "output_type": "stream",
     "text": [
      "24\n"
     ]
    }
   ],
   "source": [
    "print(difference.index(1926159))"
   ]
  },
  {
   "cell_type": "code",
   "execution_count": 23,
   "id": "d03f4564",
   "metadata": {},
   "outputs": [
    {
     "name": "stdout",
     "output_type": "stream",
     "text": [
      "43\n"
     ]
    }
   ],
   "source": [
    "print(difference.index(-2196167))"
   ]
  },
  {
   "cell_type": "code",
   "execution_count": 24,
   "id": "1de06ae0",
   "metadata": {},
   "outputs": [
    {
     "data": {
      "text/plain": [
       "['Jan-2010',\n",
       " 'Feb-2010',\n",
       " 'Mar-2010',\n",
       " 'Apr-2010',\n",
       " 'May-2010',\n",
       " 'Jun-2010',\n",
       " 'Jul-2010',\n",
       " 'Aug-2010',\n",
       " 'Sep-2010',\n",
       " 'Oct-2010',\n",
       " 'Nov-2010',\n",
       " 'Dec-2010',\n",
       " 'Jan-2011',\n",
       " 'Feb-2011',\n",
       " 'Mar-2011',\n",
       " 'Apr-2011',\n",
       " 'May-2011',\n",
       " 'Jun-2011',\n",
       " 'Jul-2011',\n",
       " 'Aug-2011',\n",
       " 'Sep-2011',\n",
       " 'Oct-2011',\n",
       " 'Nov-2011',\n",
       " 'Dec-2011',\n",
       " 'Jan-2012',\n",
       " 'Feb-2012',\n",
       " 'Mar-2012',\n",
       " 'Apr-2012',\n",
       " 'May-2012',\n",
       " 'Jun-2012',\n",
       " 'Jul-2012',\n",
       " 'Aug-2012',\n",
       " 'Sep-2012',\n",
       " 'Oct-2012',\n",
       " 'Nov-2012',\n",
       " 'Dec-2012',\n",
       " 'Jan-2013',\n",
       " 'Feb-2013',\n",
       " 'Mar-2013',\n",
       " 'Apr-2013',\n",
       " 'May-2013',\n",
       " 'Jun-2013',\n",
       " 'Jul-2013',\n",
       " 'Aug-2013',\n",
       " 'Sep-2013',\n",
       " 'Oct-2013',\n",
       " 'Nov-2013',\n",
       " 'Dec-2013',\n",
       " 'Jan-2014',\n",
       " 'Feb-2014',\n",
       " 'Mar-2014',\n",
       " 'Apr-2014',\n",
       " 'May-2014',\n",
       " 'Jun-2014',\n",
       " 'Jul-2014',\n",
       " 'Aug-2014',\n",
       " 'Sep-2014',\n",
       " 'Oct-2014',\n",
       " 'Nov-2014',\n",
       " 'Dec-2014',\n",
       " 'Jan-2015',\n",
       " 'Feb-2015',\n",
       " 'Mar-2015',\n",
       " 'Apr-2015',\n",
       " 'May-2015',\n",
       " 'Jun-2015',\n",
       " 'Jul-2015',\n",
       " 'Aug-2015',\n",
       " 'Sep-2015',\n",
       " 'Oct-2015',\n",
       " 'Nov-2015',\n",
       " 'Dec-2015',\n",
       " 'Jan-2016',\n",
       " 'Feb-2016',\n",
       " 'Mar-2016',\n",
       " 'Apr-2016',\n",
       " 'May-2016',\n",
       " 'Jun-2016',\n",
       " 'Jul-2016',\n",
       " 'Aug-2016',\n",
       " 'Sep-2016',\n",
       " 'Oct-2016',\n",
       " 'Nov-2016',\n",
       " 'Dec-2016',\n",
       " 'Jan-2017',\n",
       " 'Feb-2017']"
      ]
     },
     "execution_count": 24,
     "metadata": {},
     "output_type": "execute_result"
    }
   ],
   "source": [
    "list(budget_data.keys())"
   ]
  },
  {
   "cell_type": "code",
   "execution_count": 25,
   "id": "33d74f81",
   "metadata": {},
   "outputs": [],
   "source": [
    "date=['Jan-2010',\n",
    " 'Feb-2010',\n",
    " 'Mar-2010',\n",
    " 'Apr-2010',\n",
    " 'May-2010',\n",
    " 'Jun-2010',\n",
    " 'Jul-2010',\n",
    " 'Aug-2010',\n",
    " 'Sep-2010',\n",
    " 'Oct-2010',\n",
    " 'Nov-2010',\n",
    " 'Dec-2010',\n",
    " 'Jan-2011',\n",
    " 'Feb-2011',\n",
    " 'Mar-2011',\n",
    " 'Apr-2011',\n",
    " 'May-2011',\n",
    " 'Jun-2011',\n",
    " 'Jul-2011',\n",
    " 'Aug-2011',\n",
    " 'Sep-2011',\n",
    " 'Oct-2011',\n",
    " 'Nov-2011',\n",
    " 'Dec-2011',\n",
    " 'Jan-2012',\n",
    " 'Feb-2012',\n",
    " 'Mar-2012',\n",
    " 'Apr-2012',\n",
    " 'May-2012',\n",
    " 'Jun-2012',\n",
    " 'Jul-2012',\n",
    " 'Aug-2012',\n",
    " 'Sep-2012',\n",
    " 'Oct-2012',\n",
    " 'Nov-2012',\n",
    " 'Dec-2012',\n",
    " 'Jan-2013',\n",
    " 'Feb-2013',\n",
    " 'Mar-2013',\n",
    " 'Apr-2013',\n",
    " 'May-2013',\n",
    " 'Jun-2013',\n",
    " 'Jul-2013',\n",
    " 'Aug-2013',\n",
    " 'Sep-2013',\n",
    " 'Oct-2013',\n",
    " 'Nov-2013',\n",
    " 'Dec-2013',\n",
    " 'Jan-2014',\n",
    " 'Feb-2014',\n",
    " 'Mar-2014',\n",
    " 'Apr-2014',\n",
    " 'May-2014',\n",
    " 'Jun-2014',\n",
    " 'Jul-2014',\n",
    " 'Aug-2014',\n",
    " 'Sep-2014',\n",
    " 'Oct-2014',\n",
    " 'Nov-2014',\n",
    " 'Dec-2014',\n",
    " 'Jan-2015',\n",
    " 'Feb-2015',\n",
    " 'Mar-2015',\n",
    " 'Apr-2015',\n",
    " 'May-2015',\n",
    " 'Jun-2015',\n",
    " 'Jul-2015',\n",
    " 'Aug-2015',\n",
    " 'Sep-2015',\n",
    " 'Oct-2015',\n",
    " 'Nov-2015',\n",
    " 'Dec-2015',\n",
    " 'Jan-2016',\n",
    " 'Feb-2016',\n",
    " 'Mar-2016',\n",
    " 'Apr-2016',\n",
    " 'May-2016',\n",
    " 'Jun-2016',\n",
    " 'Jul-2016',\n",
    " 'Aug-2016',\n",
    " 'Sep-2016',\n",
    " 'Oct-2016',\n",
    " 'Nov-2016',\n",
    " 'Dec-2016',\n",
    " 'Jan-2017',\n",
    " 'Feb-2017']"
   ]
  },
  {
   "cell_type": "code",
   "execution_count": 26,
   "id": "10a43cbf",
   "metadata": {},
   "outputs": [
    {
     "name": "stdout",
     "output_type": "stream",
     "text": [
      "Financial analysis\n",
      "Total Months: 86\n",
      "Total Amount:$ 38382578\n",
      "Average Change:$ -2315.12\n",
      "Greatest Increase in Profits: Feb-2012 1926159\n",
      "Greatest Dncrease in Profits: Sep-2013 -2196167\n"
     ]
    }
   ],
   "source": [
    "print(\"Financial analysis\")\n",
    "print (\"Total Months:\",total_months(budget_data))\n",
    "print (\"Total Amount:$\",sum(budget_data.values()))\n",
    "print(\"Average Change:$\",round(Average_Change,2))\n",
    "print(\"Greatest Increase in Profits:\",date[24+1],Max_value)\n",
    "print(\"Greatest Dncrease in Profits:\",date[43+1],Min_value)"
   ]
  }
 ],
 "metadata": {
  "kernelspec": {
   "display_name": "Python 3 (ipykernel)",
   "language": "python",
   "name": "python3"
  },
  "language_info": {
   "codemirror_mode": {
    "name": "ipython",
    "version": 3
   },
   "file_extension": ".py",
   "mimetype": "text/x-python",
   "name": "python",
   "nbconvert_exporter": "python",
   "pygments_lexer": "ipython3",
   "version": "3.9.7"
  }
 },
 "nbformat": 4,
 "nbformat_minor": 5
}
